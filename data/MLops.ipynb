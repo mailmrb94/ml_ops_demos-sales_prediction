{
 "cells": [
  {
   "cell_type": "code",
   "execution_count": null,
   "id": "14ec5a1a-5d8e-4b85-9d0e-7272a29e1adc",
   "metadata": {},
   "outputs": [],
   "source": []
  }
 ],
 "metadata": {
  "kernelspec": {
   "display_name": "",
   "name": ""
  },
  "language_info": {
   "name": ""
  }
 },
 "nbformat": 4,
 "nbformat_minor": 5
}
